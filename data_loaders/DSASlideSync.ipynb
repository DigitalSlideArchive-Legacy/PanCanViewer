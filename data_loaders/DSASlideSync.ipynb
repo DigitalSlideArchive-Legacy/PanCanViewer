{
 "cells": [
  {
   "cell_type": "code",
   "execution_count": 9,
   "metadata": {
    "collapsed": false
   },
   "outputs": [],
   "source": [
    "import pymongo\n",
    "import os,csv,sys\n",
    "import openslide\n",
    "\n",
    "client = pymongo.MongoClient('localhost',27017)\n",
    "slide_root = '/GLOBAL_SCRATCH/ADRC/'  ##Base Path for Slides\n",
    "dsa_slide_db = client['ADRC_DSA_Slide_DB']  ### These need to be configured for the specific project\n",
    "dsa_load_errors_db = client['DSA_LoadErrors']"
   ]
  },
  {
   "cell_type": "code",
   "execution_count": 2,
   "metadata": {
    "collapsed": true
   },
   "outputs": [],
   "source": [
    "def find_rawslide_lists( slide_root_path ):\n",
    "        \"\"\"project_name is passed along with the potentially more than one root image path for ndpi files\"\"\"\n",
    "        slide_files = []\n",
    "\n",
    "        slide_root_path  = slide_root_path.rstrip('/')\n",
    "        print slide_root_path\n",
    "        for dpath, dnames, fnames in os.walk( slide_root_path, followlinks=True):\n",
    "                \n",
    "                for file in fnames:\n",
    "                    if '.ndpi' in file or '.svs' in file:\n",
    "                                slide_files.append(dpath +'/'+file)\n",
    "        print len(slide_files),\"SVS or NDPI files were located\"\n",
    "        return slide_files"
   ]
  },
  {
   "cell_type": "code",
   "execution_count": 4,
   "metadata": {
    "collapsed": false
   },
   "outputs": [
    {
     "name": "stdout",
     "output_type": "stream",
     "text": [
      "96 Potential Patient directories were identified\n"
     ]
    }
   ],
   "source": [
    "import dsa_mongo_common_functions as dsa\n",
    "import cdsa_loader_helper_functions as cdsa_helpers\n",
    "reload(dsa)\n",
    "reload(cdsa_helpers)\n",
    "### To generalize this, need to describe organization, most common will be  PATIENT/STAIN_TYPE as subdirectories\n",
    "subj_dir_list = [x for x in os.listdir(slide_root) if os.path.isdir(os.path.join(slide_root,x))]\n",
    "print len(subj_dir_list),\"Potential Patient directories were identified\""
   ]
  },
  {
   "cell_type": "code",
   "execution_count": null,
   "metadata": {
    "collapsed": false
   },
   "outputs": [
    {
     "name": "stdout",
     "output_type": "stream",
     "text": [
      "ADRC61-124 is being processed /GLOBAL_SCRATCH/ADRC/ADRC61-124\n",
      "106 SVS or NDPI files were located\n",
      "\u001b[KTotal Processed: 106  Newly Processed: 0 Dup Slides or Already Loaded: 0  RESCANNED Slides 0ADRC50-10 is being processed /GLOBAL_SCRATCH/ADRC/ADRC50-10\n",
      "58 SVS or NDPI files were located\n",
      "\u001b[KTotal Processed: 58  Newly Processed: 0 Dup Slides or Already Loaded: 0  RESCANNED Slides 0ADRC61-128 is being processed /GLOBAL_SCRATCH/ADRC/ADRC61-128\n",
      "99 SVS or NDPI files were located\n",
      "\u001b[KTotal Processed: 99  Newly Processed: 0 Dup Slides or Already Loaded: 0  RESCANNED Slides 0ADRC50-40 is being processed /GLOBAL_SCRATCH/ADRC/ADRC50-40\n",
      "59 SVS or NDPI files were located\n",
      "\u001b[KTotal Processed: 59  Newly Processed: 0 Dup Slides or Already Loaded: 0  RESCANNED Slides 0ADRC51-60 is being processed /GLOBAL_SCRATCH/ADRC/ADRC51-60\n",
      "10 SVS or NDPI files were located\n",
      "\u001b[KTotal Processed: 10  Newly Processed: 0 Dup Slides or Already Loaded: 0  RESCANNED Slides 0@eaDir is being processed /GLOBAL_SCRATCH/ADRC/@eaDir\n",
      "0 SVS or NDPI files were located\n",
      "ADRC60-150 is being processed /GLOBAL_SCRATCH/ADRC/ADRC60-150\n",
      "112 SVS or NDPI files were located\n",
      "\u001b[KTotal Processed: 112  Newly Processed: 0 Dup Slides or Already Loaded: 0  RESCANNED Slides 0ADRC61-120 is being processed /GLOBAL_SCRATCH/ADRC/ADRC61-120\n",
      "2 SVS or NDPI files were located\n",
      "\u001b[KTotal Processed: 2  Newly Processed: 0 Dup Slides or Already Loaded: 0  RESCANNED Slides 0ADRC57-85 is being processed /GLOBAL_SCRATCH/ADRC/ADRC57-85\n",
      "25 SVS or NDPI files were located\n",
      "\u001b[KTotal Processed: 25  Newly Processed: 0 Dup Slides or Already Loaded: 0  RESCANNED Slides 0ADRC55-200 is being processed /GLOBAL_SCRATCH/ADRC/ADRC55-200\n",
      "14 SVS or NDPI files were located\n",
      "\u001b[KTotal Processed: 14  Newly Processed: 0 Dup Slides or Already Loaded: 0  RESCANNED Slides 0ADRC49-07 is being processed /GLOBAL_SCRATCH/ADRC/ADRC49-07\n",
      "70 SVS or NDPI files were located\n",
      "\u001b[KTotal Processed: 70  Newly Processed: 0 Dup Slides or Already Loaded: 0  RESCANNED Slides 0ADRC50-11 is being processed /GLOBAL_SCRATCH/ADRC/ADRC50-11\n",
      "1 SVS or NDPI files were located\n",
      "\u001b[KTotal Processed: 1  Newly Processed: 0 Dup Slides or Already Loaded: 0  RESCANNED Slides 0ADRC51-2 is being processed /GLOBAL_SCRATCH/ADRC/ADRC51-2\n",
      "1 SVS or NDPI files were located\n",
      "\u001b[KTotal Processed: 1  Newly Processed: 0 Dup Slides or Already Loaded: 0  RESCANNED Slides 0ADRC51-134 is being processed /GLOBAL_SCRATCH/ADRC/ADRC51-134\n",
      "11 SVS or NDPI files were located\n",
      "\u001b[KTotal Processed: 11  Newly Processed: 0 Dup Slides or Already Loaded: 0  RESCANNED Slides 0.ipynb_checkpoints is being processed /GLOBAL_SCRATCH/ADRC/.ipynb_checkpoints\n",
      "0 SVS or NDPI files were located\n",
      "SamMarch20 is being processed /GLOBAL_SCRATCH/ADRC/SamMarch20\n",
      "0 SVS or NDPI files were located\n",
      "ADRC61-139 is being processed /GLOBAL_SCRATCH/ADRC/ADRC61-139\n",
      "91 SVS or NDPI files were located\n",
      "\u001b[KTotal Processed: 91  Newly Processed: 0 Dup Slides or Already Loaded: 0  RESCANNED Slides 0ADRC61-125 is being processed /GLOBAL_SCRATCH/ADRC/ADRC61-125\n",
      "150 SVS or NDPI files were located\n",
      "\u001b[KTotal Processed: 150  Newly Processed: 0 Dup Slides or Already Loaded: 0  RESCANNED Slides 0ADRC53-300 is being processed /GLOBAL_SCRATCH/ADRC/ADRC53-300\n",
      "1 SVS or NDPI files were located\n",
      "\u001b[KTotal Processed: 1  Newly Processed: 0 Dup Slides or Already Loaded: 0  RESCANNED Slides 0ADRC56-112 is being processed /GLOBAL_SCRATCH/ADRC/ADRC56-112\n",
      "21 SVS or NDPI files were located\n",
      "\u001b[KTotal Processed: 21  Newly Processed: 0 Dup Slides or Already Loaded: 0  RESCANNED Slides 0ADRC43-24 is being processed /GLOBAL_SCRATCH/ADRC/ADRC43-24\n",
      "1 SVS or NDPI files were located\n",
      "\u001b[KTotal Processed: 1  Newly Processed: 0 Dup Slides or Already Loaded: 0  RESCANNED Slides 0ADRC61-73 is being processed /GLOBAL_SCRATCH/ADRC/ADRC61-73\n",
      "89 SVS or NDPI files were located\n",
      "\u001b[KTotal Processed: 89  Newly Processed: 0 Dup Slides or Already Loaded: 0  RESCANNED Slides 0ADRC62-74 is being processed /GLOBAL_SCRATCH/ADRC/ADRC62-74\n",
      "0 SVS or NDPI files were located\n",
      "ADRC61-84 is being processed /GLOBAL_SCRATCH/ADRC/ADRC61-84\n",
      "104 SVS or NDPI files were located\n",
      "\u001b[KTotal Processed: 103  Newly Processed: 0 Dup Slides or Already Loaded: 0  RESCANNED Slides 0Openslide returned an error /GLOBAL_SCRATCH/ADRC/ADRC61-84/Tau/ADRC61-84_A15_US-tau.ndpi\n",
      "Openslide returned an error /GLOBAL_SCRATCH/ADRC/ADRC61-84/Tau/ADRC61-84_A15_US-tau.ndpi\n",
      "SHIT IT DIED!\n",
      "UNABLE TO OPEN FILE?? /GLOBAL_SCRATCH/ADRC/ADRC61-84/Tau/ADRC61-84_A15_US-tau.ndpi\n",
      "\u001b[KTotal Processed: 104  Newly Processed: 0 Dup Slides or Already Loaded: 0  RESCANNED Slides 0ADRC62-14 is being processed /GLOBAL_SCRATCH/ADRC/ADRC62-14\n",
      "1 SVS or NDPI files were located\n",
      "\u001b[KTotal Processed: 1  Newly Processed: 1 Dup Slides or Already Loaded: 0  RESCANNED Slides 0ADRC49-04 is being processed /GLOBAL_SCRATCH/ADRC/ADRC49-04\n",
      "18 SVS or NDPI files were located\n",
      "\u001b[KTotal Processed: 18  Newly Processed: 18 Dup Slides or Already Loaded: 0  RESCANNED Slides 0ADRC56-97 is being processed /GLOBAL_SCRATCH/ADRC/ADRC56-97\n",
      "116 SVS or NDPI files were located\n",
      "\u001b[KTotal Processed: 116  Newly Processed: 116 Dup Slides or Already Loaded: 0  RESCANNED Slides 0ADRC51-06 is being processed /GLOBAL_SCRATCH/ADRC/ADRC51-06\n",
      "64 SVS or NDPI files were located\n",
      "\u001b[KTotal Processed: 26  Newly Processed: 26 Dup Slides or Already Loaded: 0  RESCANNED Slides 0"
     ]
    },
    {
     "name": "stderr",
     "output_type": "stream",
     "text": [
      "Verify failed with: (u\"Can't validate JPEG for directory 0: Expected marker at 4294972345, found none\",)\n",
      "Verify failed with:"
     ]
    },
    {
     "name": "stdout",
     "output_type": "stream",
     "text": [
      "Openslide returned an error /GLOBAL_SCRATCH/ADRC/ADRC51-06/BIELS/ADRC51-06_10_BIELS.ndpi\n",
      "Openslide returned an error /GLOBAL_SCRATCH/ADRC/ADRC51-06/BIELS/ADRC51-06_10_BIELS.ndpi\n",
      "SHIT IT DIED!\n",
      "UNABLE TO OPEN FILE?? /GLOBAL_SCRATCH/ADRC/ADRC51-06/BIELS/ADRC51-06_10_BIELS.ndpi\n",
      "\r",
      "\u001b[KTotal Processed: 27  Newly Processed: 26 Dup Slides or Already Loaded: 0  RESCANNED Slides 0"
     ]
    },
    {
     "name": "stderr",
     "output_type": "stream",
     "text": [
      " (u\"Can't validate JPEG for directory 0: Expected marker at 4294972181, found none\",)\n",
      "Verify failed with:"
     ]
    },
    {
     "name": "stdout",
     "output_type": "stream",
     "text": [
      "Openslide returned an error /GLOBAL_SCRATCH/ADRC/ADRC51-06/BIELS/ADRC51-06_8_BIELS.ndpi\n",
      "Openslide returned an error /GLOBAL_SCRATCH/ADRC/ADRC51-06/BIELS/ADRC51-06_8_BIELS.ndpi\n",
      "SHIT IT DIED!\n",
      "UNABLE TO OPEN FILE?? /GLOBAL_SCRATCH/ADRC/ADRC51-06/BIELS/ADRC51-06_8_BIELS.ndpi\n",
      "\u001b[KTotal Processed: 31  Newly Processed: 29 Dup Slides or Already Loaded: 0  RESCANNED Slides 0"
     ]
    }
   ],
   "source": [
    "collection_ID = 'ADRC'\n",
    "for sd in subj_dir_list:\n",
    "    print sd,\"is being processed\",\n",
    "    curr_svs_slide_list = find_rawslide_lists(  os.path.join(slide_root,sd)  )\n",
    "    slides_processed = newly_processed = dup_slide = rescanned_slides =  0\n",
    "    for sld in curr_svs_slide_list:\n",
    "\n",
    "        slide_name = os.path.basename(sld)\n",
    "        qry = dsa_slide_db[collection_ID].find_one( {'slide_name':slide_name})\n",
    "        #print qry\n",
    "        if not qry:\n",
    "            fs = os.path.getsize(sld)\n",
    "            #print fs\n",
    "            #md5Checksum = dsa.md5sum(sld)\n",
    "            (openslide_could_open, width, height, filesize, orig_resolution, slide_name,md5, sld_properties) = cdsa_helpers.openslide_test_file_mongo( sld, 'ndpi', client)\n",
    "            if openslide_could_open:\n",
    "                prep_type = 'Unknown'\n",
    "                slide_metadata = { 'slide_w_path': sld, 'slide_name': slide_name, 'file_size':fs, 'width':width, 'height':height,\n",
    "                                 'orig_resolution': orig_resolution, 'sld_properties': cdsa_helpers.clean_openslide_keys ( sld_properties), 'slide_md5': md5, 'prep_type': prep_type\n",
    "                                 }\n",
    "                dsa_slide_db[collection_ID].insert_one(slide_metadata)\n",
    "                newly_processed +=1 \n",
    "            else:\n",
    "                print \"UNABLE TO OPEN FILE??\",sld\n",
    "                ###Need to flag/load this in to an error database\n",
    "\n",
    "        else:\n",
    "            #print \"This slide was loaded?\",slide_name\n",
    "            fs = os.path.getsize(sld)\n",
    "            ## Double check if file size matches\n",
    "#             if qry['file_size'] != fs:\n",
    "#                 #print \"File size mismatch??\",fs,qry['file_size'],qry['slide_w_path'],sld\n",
    "#                 load_errors_db['rescanned_slides'].insert_one( {'loaded_slide': qry['slide_w_path'], 'rescanned_slide': sld}             )\n",
    "#                 rescanned_slides +=1 \n",
    "#             else:\n",
    "#                 dup_slide +=1\n",
    "\n",
    "    \n",
    "        slides_processed +=1        \n",
    "        output = \"Total Processed: %d  Newly Processed: %d Dup Slides or Already Loaded: %d  RESCANNED Slides %d\" % (slides_processed, newly_processed, dup_slide, rescanned_slides )\n",
    "        dsa.LinePrinter(output)\n"
   ]
  },
  {
   "cell_type": "code",
   "execution_count": null,
   "metadata": {
    "collapsed": true
   },
   "outputs": [],
   "source": []
  },
  {
   "cell_type": "code",
   "execution_count": null,
   "metadata": {
    "collapsed": true
   },
   "outputs": [],
   "source": []
  },
  {
   "cell_type": "code",
   "execution_count": null,
   "metadata": {
    "collapsed": false
   },
   "outputs": [],
   "source": [
    "\n",
    "\n",
    "\n",
    "sys.exit()\n",
    "for sd in subj_dir_list:\n",
    "    print sd,\"is being processed\"\n",
    "    curr_svs_slide_list = find_rawslide_lists(  os.path.join(slide_root,sd)  )\n",
    "    slides_processed = newly_processed = dup_slide = rescanned_slides =  0\n",
    "    for sld in curr_svs_slide_list:\n",
    "        #print sld\n",
    "        ## Building the basic dictionary to look up.... for now I'll just index on the full slide name... may change this later though\n",
    "        slide_name = os.path.basename(sld)\n",
    "        ### check the DB to see if the slide is indexed already\n",
    "        qry = dsa_slide_db[collection_ID].find_one( {'slide_name':slide_name})\n",
    "        if not qry:\n",
    "            fs = os.path.getsize(sld)\n",
    "            #md5Checksum = dsa.md5sum(sld)\n",
    "            (openslide_could_open, width, height, filesize, orig_resolution, slide_name,md5, sld_properties) = cdsa_helpers.openslide_test_file_mongo( sld, 'svs', client)\n",
    "            if openslide_could_open:\n",
    "                #print width,height,filesize,orig_resolution,md5, sld_properties\n",
    "                ### Need to determine the stain type.... if that's even possible\n",
    "                prep_type = 'Unknown'\n",
    "                slide_metadata = { 'slide_w_path': sld, 'slide_name': slide_name, 'file_size':fs, 'width':width, 'height':height,\n",
    "                                 'orig_resolution': orig_resolution, 'sld_properties': cdsa_helpers.clean_openslide_keys ( sld_properties), 'slide_md5': md5, 'prep_type': prep_type\n",
    "                                 }\n",
    "                #print slide_metadata\n",
    "                dsa_slide_db[collection_ID].insert_one(slide_metadata)\n",
    "                newly_processed +=1 \n",
    "            else:\n",
    "                print \"UNABLE TO OPEN FILE??\",sld\n",
    "                sys.exit()\n",
    "        else:\n",
    "            ### See if the other slide matches\n",
    "            #print \"Image seems to have been loaded?\"\n",
    "            \n",
    "\n",
    "        slides_processed +=1        \n",
    "        output = \"Total Processed: %d  Newly Processed: %d Dup Slides or Already Loaded: %d  RESCANNED Slides %d\" % (slides_processed, newly_processed, dup_slide, rescanned_slides )\n",
    "        dsa.LinePrinter(output)\n"
   ]
  },
  {
   "cell_type": "code",
   "execution_count": null,
   "metadata": {
    "collapsed": true
   },
   "outputs": [],
   "source": [
    "wtf = '/TCGA_MIRROR/tcga-data.nci.nih.gov/tcgafiles/ftp_auth/distro_ftpusers/anonymous/tumor/coad/bcr/nationwidechildrens.org/diagnostic_images/slide_images/nationwidechildrens.org_COAD.diagnostic_images.Level_1.138.9.0/TCGA-AA-3489-01Z-00-DX1.AE299B70-B14C-4FFE-B1F9-38B2EB267FA9.svs'"
   ]
  },
  {
   "cell_type": "code",
   "execution_count": null,
   "metadata": {
    "collapsed": false
   },
   "outputs": [],
   "source": [
    "import openslide\n",
    "import cdsa_loader_helper_functions as cdsa_helpers\n",
    "reload(cdsa_helpers)\n",
    "cdsa_helpers.openslide_test_file_mongo(wtf,'svs',client)\n",
    "print \"HI\"\n",
    "sys.exit()\n",
    "        \n",
    "im = openslide.open_slide(wtf)\n",
    "(width, height) = im.dimensions\n",
    "base_file_name = os.path.basename(wtf)\n",
    "filesize = os.path.getsize(wtf)\n",
    "if True:\n",
    "    try:\n",
    "        orig_resolution = im.properties['aperio.AppMag']\n",
    "    except:\n",
    "        orig_resolution = 'UnknownSVSError'\n",
    "#md5 = md5Checksum(full_file_path)\n",
    "md5 = None\n",
    "slide_name = os.path.basename(wtf)\n",
    "sld_properties = im.properties\n",
    "print im.properties"
   ]
  },
  {
   "cell_type": "code",
   "execution_count": null,
   "metadata": {
    "collapsed": false
   },
   "outputs": [],
   "source": [
    "print os.getcwd()"
   ]
  }
 ],
 "metadata": {
  "kernelspec": {
   "display_name": "Python 2",
   "language": "python",
   "name": "python2"
  },
  "language_info": {
   "codemirror_mode": {
    "name": "ipython",
    "version": 2
   },
   "file_extension": ".py",
   "mimetype": "text/x-python",
   "name": "python",
   "nbconvert_exporter": "python",
   "pygments_lexer": "ipython2",
   "version": "2.7.11"
  }
 },
 "nbformat": 4,
 "nbformat_minor": 0
}
