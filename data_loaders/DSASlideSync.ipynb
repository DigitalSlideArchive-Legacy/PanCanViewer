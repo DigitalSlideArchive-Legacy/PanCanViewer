{
 "cells": [
  {
   "cell_type": "code",
   "execution_count": 1,
   "metadata": {
    "collapsed": false
   },
   "outputs": [],
   "source": [
    "import pymongo\n",
    "import os,csv,sys\n",
    "import openslide\n",
    "\n",
    "client = pymongo.MongoClient('localhost',27017)\n",
    "slide_root = '/GLOBAL_SCRATCH/ADRC/'  ##Base Path for Slides\n",
    "dsa_slide_db = client['ADRC_DSA_Slide_DB']  ### These need to be configured for the specific project\n",
    "dsa_load_errors_db = client['DSA_LoadErrors']"
   ]
  },
  {
   "cell_type": "code",
   "execution_count": 2,
   "metadata": {
    "collapsed": true
   },
   "outputs": [],
   "source": [
    "def find_rawslide_lists( slide_root_path ):\n",
    "        \"\"\"project_name is passed along with the potentially more than one root image path for ndpi files\"\"\"\n",
    "        slide_files = []\n",
    "\n",
    "        slide_root_path  = slide_root_path.rstrip('/')\n",
    "        print slide_root_path\n",
    "        for dpath, dnames, fnames in os.walk( slide_root_path, followlinks=True):\n",
    "                \n",
    "                for file in fnames:\n",
    "                    if '.ndpi' in file or '.svs' in file:\n",
    "                                slide_files.append(dpath +'/'+file)\n",
    "        print len(slide_files),\"SVS or NDPI files were located\"\n",
    "        return slide_files"
   ]
  },
  {
   "cell_type": "code",
   "execution_count": 3,
   "metadata": {
    "collapsed": false
   },
   "outputs": [
    {
     "name": "stdout",
     "output_type": "stream",
     "text": [
      "96 Potential Patient directories were identified\n"
     ]
    }
   ],
   "source": [
    "import dsa_mongo_common_functions as dsa\n",
    "import cdsa_loader_helper_functions as cdsa_helpers\n",
    "reload(dsa)\n",
    "reload(cdsa_helpers)\n",
    "### To generalize this, need to describe organization, most common will be  PATIENT/STAIN_TYPE as subdirectories\n",
    "subj_dir_list = [x for x in os.listdir(slide_root) if os.path.isdir(os.path.join(slide_root,x))]\n",
    "print len(subj_dir_list),\"Potential Patient directories were identified\""
   ]
  },
  {
   "cell_type": "code",
   "execution_count": null,
   "metadata": {
    "collapsed": false
   },
   "outputs": [
    {
     "name": "stdout",
     "output_type": "stream",
     "text": [
      "ADRC61-124 is being processed\n",
      "/GLOBAL_SCRATCH/ADRC/ADRC61-124\n",
      "106 SVS or NDPI files were located\n",
      "This slide was loaded? ADRC61-124_A22_LFBPAS_2.ndpi\n",
      "This slide was loaded? ADRC61-124_A20_LFBPAS_2.ndpi\n",
      "This slide was loaded? ADRC61-124_A25_LFBPAS.ndpi\n",
      "This slide was loaded? ADRC61-124_A19_LFBPAS.ndpi\n",
      "This slide was loaded? ADRC61-124_A20_LFBPAS.ndpi\n",
      "This slide was loaded? ADRC61-124_A15_LFBPAS_2.ndpi\n",
      "This slide was loaded? ADRC61-124_A25_LFBPAS_2.ndpi\n",
      "1562187538\n",
      "358902047\n",
      "1370161581\n",
      "1276169288\n",
      "1855562335"
     ]
    }
   ],
   "source": [
    "collection_ID = 'ADRC'\n",
    "for sd in subj_dir_list:\n",
    "    print sd,\"is being processed\"\n",
    "    curr_svs_slide_list = find_rawslide_lists(  os.path.join(slide_root,sd)  )\n",
    "    slides_processed = newly_processed = dup_slide = rescanned_slides =  0\n",
    "    for sld in curr_svs_slide_list:\n",
    "\n",
    "        slide_name = os.path.basename(sld)\n",
    "        qry = dsa_slide_db[collection_ID].find_one( {'slide_name':slide_name})\n",
    "        #print qry\n",
    "        if not qry:\n",
    "            fs = os.path.getsize(sld)\n",
    "            print fs\n",
    "            #md5Checksum = dsa.md5sum(sld)\n",
    "            (openslide_could_open, width, height, filesize, orig_resolution, slide_name,md5, sld_properties) = cdsa_helpers.openslide_test_file_mongo( sld, 'ndpi', client)\n",
    "            if openslide_could_open:\n",
    "                prep_type = 'Unknown'\n",
    "                slide_metadata = { 'slide_w_path': sld, 'slide_name': slide_name, 'file_size':fs, 'width':width, 'height':height,\n",
    "                                 'orig_resolution': orig_resolution, 'sld_properties': cdsa_helpers.clean_openslide_keys ( sld_properties), 'slide_md5': md5, 'prep_type': prep_type\n",
    "                                 }\n",
    "                dsa_slide_db[collection_ID].insert_one(slide_metadata)\n",
    "                newly_processed +=1 \n",
    "            else:\n",
    "                print \"UNABLE TO OPEN FILE??\",sld\n",
    "                sys.exit()\n",
    "\n",
    "\n",
    "                print width, height\n",
    "                sys.exit()\n",
    "        else:\n",
    "            print \"This slide was loaded?\",slide_name"
   ]
  },
  {
   "cell_type": "code",
   "execution_count": null,
   "metadata": {
    "collapsed": true
   },
   "outputs": [],
   "source": []
  },
  {
   "cell_type": "code",
   "execution_count": null,
   "metadata": {
    "collapsed": false
   },
   "outputs": [],
   "source": [
    "#             print fs\n",
    "#             (openslide_could_open, width, height, filesize, orig_resolution, slide_name,md5, sld_properties) = cdsa_helpers.openslide_test_file_mongo( sld, 'ndpi', client)\n",
    "print sld\n",
    "print curr_svs_slide_list[5]\n",
    "my_slide = curr_svs_slide_list[5]\n",
    "\n",
    "cdsa_helpers.openslide_test_file_mongo( my_slide, 'ndpi', client)"
   ]
  },
  {
   "cell_type": "code",
   "execution_count": null,
   "metadata": {
    "collapsed": false
   },
   "outputs": [],
   "source": []
  },
  {
   "cell_type": "code",
   "execution_count": null,
   "metadata": {
    "collapsed": false
   },
   "outputs": [],
   "source": [
    "\n",
    "\n",
    "\n",
    "sys.exit()\n",
    "for sd in subj_dir_list:\n",
    "    print sd,\"is being processed\"\n",
    "    curr_svs_slide_list = find_rawslide_lists(  os.path.join(slide_root,sd)  )\n",
    "    slides_processed = newly_processed = dup_slide = rescanned_slides =  0\n",
    "    for sld in curr_svs_slide_list:\n",
    "        #print sld\n",
    "        ## Building the basic dictionary to look up.... for now I'll just index on the full slide name... may change this later though\n",
    "        slide_name = os.path.basename(sld)\n",
    "        ### check the DB to see if the slide is indexed already\n",
    "        qry = dsa_slide_db[collection_ID].find_one( {'slide_name':slide_name})\n",
    "        if not qry:\n",
    "            fs = os.path.getsize(sld)\n",
    "            #md5Checksum = dsa.md5sum(sld)\n",
    "            (openslide_could_open, width, height, filesize, orig_resolution, slide_name,md5, sld_properties) = cdsa_helpers.openslide_test_file_mongo( sld, 'svs', client)\n",
    "            if openslide_could_open:\n",
    "                #print width,height,filesize,orig_resolution,md5, sld_properties\n",
    "                ### Need to determine the stain type.... if that's even possible\n",
    "                prep_type = 'Unknown'\n",
    "                slide_metadata = { 'slide_w_path': sld, 'slide_name': slide_name, 'file_size':fs, 'width':width, 'height':height,\n",
    "                                 'orig_resolution': orig_resolution, 'sld_properties': cdsa_helpers.clean_openslide_keys ( sld_properties), 'slide_md5': md5, 'prep_type': prep_type\n",
    "                                 }\n",
    "                #print slide_metadata\n",
    "                dsa_slide_db[collection_ID].insert_one(slide_metadata)\n",
    "                newly_processed +=1 \n",
    "            else:\n",
    "                print \"UNABLE TO OPEN FILE??\",sld\n",
    "                sys.exit()\n",
    "        else:\n",
    "            ### See if the other slide matches\n",
    "            #print \"Image seems to have been loaded?\"\n",
    "            fs = os.path.getsize(sld)\n",
    "            ## Double check if file size matches\n",
    "            if qry['file_size'] != fs:\n",
    "                #print \"File size mismatch??\",fs,qry['file_size'],qry['slide_w_path'],sld\n",
    "                load_errors_db['rescanned_slides'].insert_one( {'loaded_slide': qry['slide_w_path'], 'rescanned_slide': sld}             )\n",
    "                rescanned_slides +=1 \n",
    "            else:\n",
    "                dup_slide +=1\n",
    "\n",
    "\n",
    "        slides_processed +=1        \n",
    "        output = \"Total Processed: %d  Newly Processed: %d Dup Slides or Already Loaded: %d  RESCANNED Slides %d\" % (slides_processed, newly_processed, dup_slide, rescanned_slides )\n",
    "        dsa.LinePrinter(output)\n"
   ]
  },
  {
   "cell_type": "code",
   "execution_count": null,
   "metadata": {
    "collapsed": true
   },
   "outputs": [],
   "source": [
    "wtf = '/TCGA_MIRROR/tcga-data.nci.nih.gov/tcgafiles/ftp_auth/distro_ftpusers/anonymous/tumor/coad/bcr/nationwidechildrens.org/diagnostic_images/slide_images/nationwidechildrens.org_COAD.diagnostic_images.Level_1.138.9.0/TCGA-AA-3489-01Z-00-DX1.AE299B70-B14C-4FFE-B1F9-38B2EB267FA9.svs'"
   ]
  },
  {
   "cell_type": "code",
   "execution_count": null,
   "metadata": {
    "collapsed": false
   },
   "outputs": [],
   "source": [
    "import openslide\n",
    "import cdsa_loader_helper_functions as cdsa_helpers\n",
    "reload(cdsa_helpers)\n",
    "cdsa_helpers.openslide_test_file_mongo(wtf,'svs',client)\n",
    "print \"HI\"\n",
    "sys.exit()\n",
    "        \n",
    "im = openslide.open_slide(wtf)\n",
    "(width, height) = im.dimensions\n",
    "base_file_name = os.path.basename(wtf)\n",
    "filesize = os.path.getsize(wtf)\n",
    "if True:\n",
    "    try:\n",
    "        orig_resolution = im.properties['aperio.AppMag']\n",
    "    except:\n",
    "        orig_resolution = 'UnknownSVSError'\n",
    "#md5 = md5Checksum(full_file_path)\n",
    "md5 = None\n",
    "slide_name = os.path.basename(wtf)\n",
    "sld_properties = im.properties\n",
    "print im.properties"
   ]
  },
  {
   "cell_type": "code",
   "execution_count": null,
   "metadata": {
    "collapsed": false
   },
   "outputs": [],
   "source": [
    "print os.getcwd()"
   ]
  },
  {
   "cell_type": "code",
   "execution_count": null,
   "metadata": {
    "collapsed": true
   },
   "outputs": [],
   "source": []
  },
  {
   "cell_type": "code",
   "execution_count": null,
   "metadata": {
    "collapsed": true
   },
   "outputs": [],
   "source": [
    "import openslide"
   ]
  },
  {
   "cell_type": "code",
   "execution_count": null,
   "metadata": {
    "collapsed": true
   },
   "outputs": [],
   "source": [
    "curr_svs_slide_list = dsa.find_svs_image_list('kirp',[tcga_mirror_root])"
   ]
  },
  {
   "cell_type": "code",
   "execution_count": null,
   "metadata": {
    "collapsed": false
   },
   "outputs": [],
   "source": [
    "# collection_id='kirp'\n",
    "# print svs_collections ## This lists all the top level folders\n",
    "# curr_svs_slide_list = dsa.find_svs_image_list(collection_id,[tcga_mirror_root])\n",
    "\n"
   ]
  },
  {
   "cell_type": "code",
   "execution_count": null,
   "metadata": {
    "collapsed": true
   },
   "outputs": [],
   "source": [
    "### CHECK OUT FILE 2620 +-10 this is for PRAD"
   ]
  },
  {
   "cell_type": "code",
   "execution_count": null,
   "metadata": {
    "collapsed": false
   },
   "outputs": [],
   "source": [
    "print len(curr_svs_slide_list)"
   ]
  },
  {
   "cell_type": "code",
   "execution_count": null,
   "metadata": {
    "collapsed": false
   },
   "outputs": [],
   "source": [
    "print curr_svs_slide_list[4]"
   ]
  }
 ],
 "metadata": {
  "kernelspec": {
   "display_name": "Python 2",
   "language": "python",
   "name": "python2"
  },
  "language_info": {
   "codemirror_mode": {
    "name": "ipython",
    "version": 2
   },
   "file_extension": ".py",
   "mimetype": "text/x-python",
   "name": "python",
   "nbconvert_exporter": "python",
   "pygments_lexer": "ipython2",
   "version": "2.7.11"
  }
 },
 "nbformat": 4,
 "nbformat_minor": 0
}
