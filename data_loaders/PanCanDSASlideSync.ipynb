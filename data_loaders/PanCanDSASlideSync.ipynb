{
 "cells": [
  {
   "cell_type": "code",
   "execution_count": 1,
   "metadata": {
    "collapsed": false
   },
   "outputs": [],
   "source": [
    "import pymongo\n",
    "import os,csv,sys\n",
    "import openslide\n",
    "import dsa_mongo_common_functions as dsa\n",
    "import cdsa_loader_helper_functions as cdsa_helpers\n",
    "import pprint\n",
    "client = pymongo.MongoClient('localhost',27017)\n",
    "dsa_load_errors_db = client['DSA_LoadErrors']"
   ]
  },
  {
   "cell_type": "code",
   "execution_count": 2,
   "metadata": {
    "collapsed": false
   },
   "outputs": [
    {
     "data": {
      "text/plain": [
       "<module 'cdsa_loader_helper_functions' from 'cdsa_loader_helper_functions.pyc'>"
      ]
     },
     "execution_count": 2,
     "metadata": {},
     "output_type": "execute_result"
    }
   ],
   "source": [
    "reload(dsa)\n",
    "reload(cdsa_helpers)"
   ]
  },
  {
   "cell_type": "code",
   "execution_count": 3,
   "metadata": {
    "collapsed": false
   },
   "outputs": [
    {
     "name": "stdout",
     "output_type": "stream",
     "text": [
      "9 Potential Patient directories were identified\n"
     ]
    }
   ],
   "source": [
    "## This is specific to a given fle system and or structurme\n",
    "slide_root = '/home/lcoop22/Images/'  ##Base Path for Slides\n",
    "dsa_slide_db = client['PanCanDSA_Slide_Data']  ### These need to be configured for the specific project\n",
    "\n",
    "### To generalize this, need to describe organization, most common will be  PATIENT/STAIN_TYPE as subdirectories\n",
    "subj_dir_list = [x for x in os.listdir(slide_root) if os.path.isdir(os.path.join(slide_root,x))]\n",
    "print len(subj_dir_list),\"Potential Patient directories were identified\""
   ]
  },
  {
   "cell_type": "code",
   "execution_count": 4,
   "metadata": {
    "collapsed": false
   },
   "outputs": [],
   "source": [
    "def find_rawslide_lists( slide_root_path ):\n",
    "        \"\"\"project_name is passed along with the potentially more than one root image path for ndpi files\"\"\"\n",
    "        slide_files = []\n",
    "\n",
    "        slide_root_path  = slide_root_path.rstrip('/')\n",
    "        print slide_root_path\n",
    "        for dpath, dnames, fnames in os.walk( slide_root_path, followlinks=True):\n",
    "                \n",
    "                for file in fnames:\n",
    "                    if '.ndpi' in file or '.svs' in file:\n",
    "                                slide_files.append(dpath +'/'+file)\n",
    "        print len(slide_files),\"SVS or NDPI files were located\"\n",
    "        return slide_files"
   ]
  },
  {
   "cell_type": "code",
   "execution_count": 9,
   "metadata": {
    "collapsed": false
   },
   "outputs": [
    {
     "name": "stdout",
     "output_type": "stream",
     "text": [
      "['SARC']\n"
     ]
    }
   ],
   "source": [
    "print subj_dir_list\n",
    "subj_dir_list = ['SARC']"
   ]
  },
  {
   "cell_type": "code",
   "execution_count": 10,
   "metadata": {
    "collapsed": false
   },
   "outputs": [
    {
     "name": "stdout",
     "output_type": "stream",
     "text": [
      "SARC is being processed /home/lcoop22/Images/SARC\n",
      "726 SVS or NDPI files were located\n",
      "\u001b[KTotal Processed: 726  Newly Processed: 0 Dup Slides or Already Loaded: 0  RESCANNED Slides 0"
     ]
    }
   ],
   "source": [
    "### So this creates a document WITHIN the current database to store raw information about the slides\n",
    "## Now that I think about this, I really should not store the filename but the File Hash as I.. want to change the filenames\n",
    "\n",
    "for sd in subj_dir_list:\n",
    "    print sd,\"is being processed\",\n",
    "    curr_svs_slide_list = find_rawslide_lists(  os.path.join(slide_root,sd)  )\n",
    "    slides_processed = newly_processed = dup_slide = rescanned_slides =  0\n",
    "    for sld in curr_svs_slide_list:\n",
    "\n",
    "        slide_name = os.path.basename(sld)\n",
    "        qry = dsa_slide_db['RawSlideData'].find_one( {'slide_name':slide_name})\n",
    "        #print qry\n",
    "        if not qry:\n",
    "            fs = os.path.getsize(sld)\n",
    "            #md5Checksum = dsa.md5sum(sld)\n",
    "            (openslide_could_open, width, height, filesize, orig_resolution, slide_name,md5, sld_properties) = cdsa_helpers.openslide_test_file_mongo( sld, 'ndpi', client)\n",
    "            if openslide_could_open:\n",
    "                prep_type = 'Unknown'\n",
    "                slide_metadata = { 'slide_w_path': sld, 'slide_name': slide_name, 'file_size':fs, 'width':width, 'height':height,\n",
    "                                 'orig_resolution': orig_resolution, 'sld_properties': cdsa_helpers.clean_openslide_keys ( sld_properties), 'slide_md5': md5, 'prep_type': prep_type\n",
    "                                 }\n",
    "                dsa_slide_db['RawSlideData'].insert_one(slide_metadata)\n",
    "                newly_processed +=1 \n",
    "            else:\n",
    "                print \"UNABLE TO OPEN FILE??\",sld\n",
    "                ###Need to flag/load this in to an error database\n",
    "\n",
    "        else:\n",
    "            fs = os.path.getsize(sld)\n",
    "            ## Double check if file size matches\n",
    "#             if qry['file_size'] != fs:\n",
    "#                 #print \"File size mismatch??\",fs,qry['file_size'],qry['slide_w_path'],sld\n",
    "#                 load_errors_db['rescanned_slides'].insert_one( {'loaded_slide': qry['slide_w_path'], 'rescanned_slide': sld}             )\n",
    "#                 rescanned_slides +=1 \n",
    "#             else:\n",
    "#                 dup_slide +=1\n",
    "\n",
    "    \n",
    "        slides_processed +=1        \n",
    "        output = \"Total Processed: %d  Newly Processed: %d Dup Slides or Already Loaded: %d  RESCANNED Slides %d\" % (slides_processed, newly_processed, dup_slide, rescanned_slides )\n",
    "        dsa.LinePrinter(output)\n"
   ]
  },
  {
   "cell_type": "code",
   "execution_count": null,
   "metadata": {
    "collapsed": false
   },
   "outputs": [],
   "source": [
    "#dsa_slide_db['DSA_Slide_Data'].delete_many({})\n",
    "#print dsa_slide_db['DSA_Slide_Data'].count()"
   ]
  },
  {
   "cell_type": "code",
   "execution_count": null,
   "metadata": {
    "collapsed": true
   },
   "outputs": [],
   "source": [
    "### I now want to reformat all of this data to make it more useful for DSA ..."
   ]
  },
  {
   "cell_type": "code",
   "execution_count": 11,
   "metadata": {
    "collapsed": false
   },
   "outputs": [],
   "source": [
    "all_slides = dsa_slide_db['RawSlideData'].find()\n",
    "\n",
    "## Since this is pretty easy to recreate, I'm going to empty the current database\n",
    "\n",
    "dsa_slide_db['PanCanDSA_Slide_Data'].delete_many({})\n",
    "\n",
    "for s in all_slides:\n",
    "    slide_dict = {}\n",
    "    #pt_id = s['slide_w_path'].split('/')[-1]\n",
    "    slideGroup = s['slide_w_path'].split('/')[-2]\n",
    "    pt_id = s['slide_w_path'].split('/')[-1].split('.')[0]\n",
    "   # stain_type = s['slide_w_path'].split('/')[-2]\n",
    "    stain_type = 'UNK'\n",
    "    slide_dict = s\n",
    "    slide_dict.pop('_id',None)\n",
    "    \n",
    "    slide_dict['pt_id'] = pt_id\n",
    "    slide_dict['stain_type'] = stain_type\n",
    "    ### Obfuscating the global file path so everything is relative to some base path for the archive/\n",
    "    slide_dict['thumbnail_image'] = '/thumbnail/' + s['slide_w_path'].replace(slide_root,'')\n",
    "    slide_dict['slide_w_path'] = '/DZIMS/' + s['slide_w_path'].replace(slide_root,'')+'.dzi'\n",
    "    slide_dict['slideGroup'] = slideGroup\n",
    "    dsa_slide_db['PanCanDSA_Slide_Data'].insert_one(slide_dict)\n",
    "\n",
    "    #       var html = sld_info.slide_name + '#' + sld_info.slide_w_path+ '#' + sld_info.slide_name + '#' + sld_info.thumbnail_image;\n",
    "##    viewer.open('/DZIMS/ADRC50-21/pTDP/OS00-21_14_pTDP_1to10k.ndpi.dzi')\n",
    "###      var html = sld_info.slide_name + '#' + sld_info.slide_w_path+ '#' + sld_info.slide_name + '#' + sld_info.thumbnail_image;\n"
   ]
  },
  {
   "cell_type": "code",
   "execution_count": 28,
   "metadata": {
    "collapsed": false
   },
   "outputs": [
    {
     "name": "stdout",
     "output_type": "stream",
     "text": [
      "[u'SKCM', u'SARC']\n"
     ]
    }
   ],
   "source": [
    "coll_list = dsa_slide_db['PanCanDSA_Slide_Data'].distinct('slideGroup')\n",
    "print coll_list"
   ]
  },
  {
   "cell_type": "code",
   "execution_count": null,
   "metadata": {
    "collapsed": true
   },
   "outputs": [],
   "source": [
    "all_slides = dsa_slide_db['RawSlideData'].find()\n"
   ]
  },
  {
   "cell_type": "code",
   "execution_count": null,
   "metadata": {
    "collapsed": false
   },
   "outputs": [],
   "source": [
    "dsa_slide_db['PanCanDSA_Slide_Data'].count()"
   ]
  },
  {
   "cell_type": "code",
   "execution_count": null,
   "metadata": {
    "collapsed": false
   },
   "outputs": [],
   "source": [
    "print dsa_slide_db['DSA_Slide_Data'].distinct('pt_id')"
   ]
  },
  {
   "cell_type": "code",
   "execution_count": null,
   "metadata": {
    "collapsed": false
   },
   "outputs": [],
   "source": [
    "cur= dsa_slide_db['DSA_Slide_Data'].find({'pt_id':'ADRC50-10'})\n",
    "for c in cur:\n",
    "    print c"
   ]
  },
  {
   "cell_type": "code",
   "execution_count": null,
   "metadata": {
    "collapsed": false
   },
   "outputs": [],
   "source": [
    "\n",
    "## Going to create a cleanup and /or reformatted collection for the DSA Viewer\n",
    "for s in dsa_slide_db['ADRC'].find():\n",
    "    keys_of_interest = ['width','height']\n",
    "    print s['slide_w_path']\n",
    "    print s.keys()\n",
    "    sys.exit()\n",
    "###\n"
   ]
  }
 ],
 "metadata": {
  "kernelspec": {
   "display_name": "Python 2",
   "language": "python",
   "name": "python2"
  },
  "language_info": {
   "codemirror_mode": {
    "name": "ipython",
    "version": 2
   },
   "file_extension": ".py",
   "mimetype": "text/x-python",
   "name": "python",
   "nbconvert_exporter": "python",
   "pygments_lexer": "ipython2",
   "version": "2.7.11"
  }
 },
 "nbformat": 4,
 "nbformat_minor": 0
}
